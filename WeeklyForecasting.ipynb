{
  "nbformat": 4,
  "nbformat_minor": 0,
  "metadata": {
    "colab": {
      "name": "WeeklyForecasting.ipynb",
      "provenance": [],
      "collapsed_sections": [],
      "authorship_tag": "ABX9TyNFrJZ/4djBiKadp1jBgN65",
      "include_colab_link": true
    },
    "kernelspec": {
      "name": "python3",
      "display_name": "Python 3"
    },
    "language_info": {
      "name": "python"
    }
  },
  "cells": [
    {
      "cell_type": "markdown",
      "metadata": {
        "id": "view-in-github",
        "colab_type": "text"
      },
      "source": [
        "<a href=\"https://colab.research.google.com/github/maxi-gkd/sales-forecast/blob/main/WeeklyForecasting.ipynb\" target=\"_parent\"><img src=\"https://colab.research.google.com/assets/colab-badge.svg\" alt=\"Open In Colab\"/></a>"
      ]
    },
    {
      "cell_type": "code",
      "execution_count": null,
      "metadata": {
        "id": "HIIT2ZV7xQz0"
      },
      "outputs": [],
      "source": [
        "!pip install fbprophet"
      ]
    },
    {
      "cell_type": "markdown",
      "source": [
        "**1. Import Dependencies**"
      ],
      "metadata": {
        "id": "kGUi0QlMxVfX"
      }
    },
    {
      "cell_type": "code",
      "source": [
        "import pandas as pd\n",
        "import numpy as np\n",
        "from math import ceil\n",
        "\n",
        "from fbprophet import Prophet\n",
        "from fbprophet.plot import plot_plotly\n",
        "\n",
        "from google.colab import drive "
      ],
      "metadata": {
        "id": "zrHCq5asxW7F"
      },
      "execution_count": 2,
      "outputs": []
    },
    {
      "cell_type": "markdown",
      "source": [
        "**2. Load Data**\n"
      ],
      "metadata": {
        "id": "584f5T1KxZxV"
      }
    },
    {
      "cell_type": "code",
      "source": [
        "drive.mount('/content/gdrive')\n"
      ],
      "metadata": {
        "id": "aNKMxlmDxbs-"
      },
      "execution_count": null,
      "outputs": []
    },
    {
      "cell_type": "code",
      "source": [
        "df = pd.read_csv('gdrive/MyDrive/TP_gestion_comercial/weekly_sales_from_2017.csv')"
      ],
      "metadata": {
        "id": "bol2MIjDyeNy"
      },
      "execution_count": 4,
      "outputs": []
    },
    {
      "cell_type": "markdown",
      "source": [
        "**3. Apply Data Preprocessing**\n"
      ],
      "metadata": {
        "id": "aBST6zL1yGpP"
      }
    },
    {
      "cell_type": "code",
      "source": [
        "df[\"qty\"] = 1\n",
        "df['ds'] = pd.to_datetime(df['ds'])\n",
        "df.drop('total', axis=1, inplace=True)"
      ],
      "metadata": {
        "id": "Xgt_dPTzNi9l"
      },
      "execution_count": 5,
      "outputs": []
    },
    {
      "cell_type": "code",
      "source": [
        "df_weekly = df.resample('W', on='ds')['qty'].sum()\n",
        "df_weekly = df_weekly.reset_index()"
      ],
      "metadata": {
        "id": "p5DOIF8Vyl77"
      },
      "execution_count": 6,
      "outputs": []
    },
    {
      "cell_type": "code",
      "source": [
        "df_weekly.columns = ['ds', 'y']"
      ],
      "metadata": {
        "id": "tfavRGKlzCdg"
      },
      "execution_count": 7,
      "outputs": []
    },
    {
      "cell_type": "markdown",
      "source": [
        "**4. Create Time Series Model**\n"
      ],
      "metadata": {
        "id": "T9VnoNMtzTEh"
      }
    },
    {
      "cell_type": "code",
      "source": [
        "m = Prophet(daily_seasonality = False, weekly_seasonality = False, yearly_seasonality = True, interval_width=0.80) \n"
      ],
      "metadata": {
        "id": "_8rq0ClszTji"
      },
      "execution_count": 8,
      "outputs": []
    },
    {
      "cell_type": "code",
      "source": [
        "training_run = m.fit(df_weekly)\n"
      ],
      "metadata": {
        "id": "VBP8k18HzWaL"
      },
      "execution_count": 9,
      "outputs": []
    },
    {
      "cell_type": "markdown",
      "source": [
        "**5. Evaluate Model**\n"
      ],
      "metadata": {
        "id": "ZW00rr_2zcrt"
      }
    },
    {
      "cell_type": "code",
      "source": [
        "future = m.make_future_dataframe(periods=24, freq='W')\n"
      ],
      "metadata": {
        "id": "GQgTmx8wzcKn"
      },
      "execution_count": 10,
      "outputs": []
    },
    {
      "cell_type": "code",
      "source": [
        "forecast = m.predict(future)\n"
      ],
      "metadata": {
        "id": "qCVaoC_ozcHb"
      },
      "execution_count": 11,
      "outputs": []
    },
    {
      "cell_type": "code",
      "source": [
        "result = forecast[['ds','yhat', 'yhat_lower', 'yhat_upper']].copy()\n",
        "result['yhat'] = result['yhat'].astype(np.int64)\n",
        "result['yhat_lower'] = result['yhat_lower'].astype(np.int64)\n",
        "result['yhat_upper'] = result['yhat_upper'].astype(np.int64)"
      ],
      "metadata": {
        "id": "EyjMtOwLzjXa"
      },
      "execution_count": 12,
      "outputs": []
    },
    {
      "cell_type": "code",
      "source": [
        "result.tail(20)"
      ],
      "metadata": {
        "id": "jR0cqMXR--82"
      },
      "execution_count": null,
      "outputs": []
    },
    {
      "cell_type": "code",
      "source": [
        "fig=plot_plotly(m, forecast)\n",
        "fig"
      ],
      "metadata": {
        "id": "gOIrgL3Pzxfw"
      },
      "execution_count": null,
      "outputs": []
    },
    {
      "cell_type": "code",
      "source": [
        "plot2 = m.plot_components(forecast)\n"
      ],
      "metadata": {
        "id": "Jqi866XYz5b3"
      },
      "execution_count": null,
      "outputs": []
    },
    {
      "cell_type": "markdown",
      "source": [
        "**6. Process & Show results**"
      ],
      "metadata": {
        "id": "2axLal6EejWi"
      }
    },
    {
      "cell_type": "code",
      "source": [
        "#group sales by quarter\n",
        "monthly_result = result.groupby(result['ds'].dt.to_period('Q')).agg('sum')\n",
        "monthly_result.drop('yhat_lower', axis=1, inplace=True)\n",
        "monthly_result.drop('yhat_upper', axis=1, inplace=True)\n",
        "monthly_result.columns = ['Flights sold']"
      ],
      "metadata": {
        "id": "ilVZdnPXenpO"
      },
      "execution_count": 38,
      "outputs": []
    },
    {
      "cell_type": "code",
      "source": [
        "monthly_result.tail(10)"
      ],
      "metadata": {
        "id": "96zHJjn8fHxW"
      },
      "execution_count": null,
      "outputs": []
    }
  ]
}